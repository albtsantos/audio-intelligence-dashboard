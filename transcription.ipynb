{
 "cells": [
  {
   "cell_type": "markdown",
   "id": "83251f5b-0661-44cc-a33e-70a8a46a9d5b",
   "metadata": {
    "tags": [],
    "pycharm": {
     "name": "#%% md\n"
    }
   },
   "source": [
    "# Helper Functions"
   ]
  },
  {
   "cell_type": "code",
   "execution_count": 44,
   "id": "5a678123-1a59-4ff9-85f8-8646d373b748",
   "metadata": {
    "pycharm": {
     "name": "#%%\n"
    }
   },
   "outputs": [],
   "source": [
    "import json\n",
    "\n",
    "import requests\n",
    "import time\n",
    "\n",
    "\n",
    "upload_endpoint = \"https://api.assemblyai.com/v2/upload\"\n",
    "transcript_endpoint = \"https://api.assemblyai.com/v2/transcript\"\n",
    "\n",
    "API_KEY = \"a6f53d3fe7f542be8ce148432f0ff9a0\""
   ]
  },
  {
   "cell_type": "markdown",
   "id": "1c493c0c-38fc-4a26-8a7d-04351df18229",
   "metadata": {
    "pycharm": {
     "name": "#%% md\n"
    }
   },
   "source": [
    "## Make Header"
   ]
  },
  {
   "cell_type": "code",
   "execution_count": 2,
   "id": "407bb130-16e6-4f04-8ea6-b01392d681a2",
   "metadata": {
    "pycharm": {
     "name": "#%%\n"
    }
   },
   "outputs": [],
   "source": [
    "def make_header(api_key):\n",
    "    return {\n",
    "    'authorization': api_key,\n",
    "    'content-type': 'application/json'\n",
    "    }"
   ]
  },
  {
   "cell_type": "code",
   "execution_count": 3,
   "id": "34cfbf64-dacc-48f3-9746-b8e00e8fad1a",
   "metadata": {
    "pycharm": {
     "name": "#%%\n"
    }
   },
   "outputs": [],
   "source": [
    "header = make_header(API_KEY)"
   ]
  },
  {
   "cell_type": "code",
   "execution_count": 4,
   "id": "ed6b0204-7218-49dd-913f-2ebce109b536",
   "metadata": {
    "pycharm": {
     "name": "#%%\n"
    }
   },
   "outputs": [
    {
     "data": {
      "text/plain": "{'authorization': 'a6f53d3fe7f542be8ce148432f0ff9a0',\n 'content-type': 'application/json'}"
     },
     "execution_count": 4,
     "metadata": {},
     "output_type": "execute_result"
    }
   ],
   "source": [
    "header"
   ]
  },
  {
   "cell_type": "markdown",
   "id": "f74b8078-c9a6-4bf5-82f5-d27b7ad06861",
   "metadata": {
    "pycharm": {
     "name": "#%% md\n"
    }
   },
   "source": [
    "## Upload File"
   ]
  },
  {
   "cell_type": "code",
   "execution_count": 5,
   "id": "dcc278c7-6005-45b1-ba26-4d0bb46bdbb6",
   "metadata": {
    "pycharm": {
     "name": "#%%\n"
    }
   },
   "outputs": [],
   "source": [
    "# Helper for `upload_file()`\n",
    "def _read_file(filename, chunk_size=5242880):\n",
    "    with open(filename, \"rb\") as f:\n",
    "        while True:\n",
    "            data = f.read(chunk_size)\n",
    "            if not data:\n",
    "                break\n",
    "            yield data\n",
    "\n",
    "\n",
    "# Uploads a file to AAI servers\n",
    "def upload_file(audio_file, header):\n",
    "    upload_response = requests.post(\n",
    "        upload_endpoint,\n",
    "        headers=header, \n",
    "        data=_read_file(audio_file)\n",
    "    )\n",
    "    return upload_response#.json()"
   ]
  },
  {
   "cell_type": "code",
   "execution_count": 6,
   "id": "e864e7dd-9ba0-4873-82c2-d50acafeef5a",
   "metadata": {
    "pycharm": {
     "name": "#%%\n"
    }
   },
   "outputs": [],
   "source": [
    "upload_response = upload_file(\"../s5_gettysburg.wav\", header)"
   ]
  },
  {
   "cell_type": "code",
   "execution_count": 8,
   "outputs": [
    {
     "data": {
      "text/plain": "<Response [200]>"
     },
     "execution_count": 8,
     "metadata": {},
     "output_type": "execute_result"
    }
   ],
   "source": [
    "upload_response"
   ],
   "metadata": {
    "collapsed": false,
    "pycharm": {
     "name": "#%%\n"
    }
   }
  },
  {
   "cell_type": "code",
   "execution_count": 12,
   "id": "303c8f3b-f087-4313-ae35-1e759d13ceef",
   "metadata": {
    "pycharm": {
     "name": "#%%\n"
    }
   },
   "outputs": [
    {
     "name": "stdout",
     "output_type": "stream",
     "text": [
      "--------------------------------------------------\n",
      "apparent_encoding --- ascii\n",
      "--------------------------------------------------\n",
      "close --- <bound method Response.close of <Response [200]>>\n",
      "--------------------------------------------------\n",
      "connection --- <requests.adapters.HTTPAdapter object at 0x0000022703C387C0>\n",
      "--------------------------------------------------\n",
      "content --- b'{\"upload_url\": \"https://cdn.assemblyai.com/upload/42bef839-18c7-4252-9fec-0ea53075d633\"}'\n",
      "--------------------------------------------------\n",
      "cookies --- <RequestsCookieJar[<Cookie AWSALB=u4jxFFVYKbpQaexBa6qR3efyQJFaddP7dzurpb30gCysbRtebDRgYLfpjnP9UdQ8IapoqnVwTcFJB9llSr0KMEuIZnXXDGHcmhqfVze0iPBU/2llPTL5jx5Kow/+ for api.assemblyai.com/>, <Cookie AWSALBCORS=u4jxFFVYKbpQaexBa6qR3efyQJFaddP7dzurpb30gCysbRtebDRgYLfpjnP9UdQ8IapoqnVwTcFJB9llSr0KMEuIZnXXDGHcmhqfVze0iPBU/2llPTL5jx5Kow/+ for api.assemblyai.com/>]>\n",
      "--------------------------------------------------\n",
      "elapsed --- 0:00:00.875986\n",
      "--------------------------------------------------\n",
      "encoding --- UTF-8\n",
      "--------------------------------------------------\n",
      "headers --- {'Date': 'Tue, 06 Sep 2022 19:32:42 GMT', 'Content-Type': 'application/json; charset=UTF-8', 'Content-Length': '88', 'Connection': 'keep-alive', 'Set-Cookie': 'AWSALB=u4jxFFVYKbpQaexBa6qR3efyQJFaddP7dzurpb30gCysbRtebDRgYLfpjnP9UdQ8IapoqnVwTcFJB9llSr0KMEuIZnXXDGHcmhqfVze0iPBU/2llPTL5jx5Kow/+; Expires=Tue, 13 Sep 2022 19:32:42 GMT; Path=/, AWSALBCORS=u4jxFFVYKbpQaexBa6qR3efyQJFaddP7dzurpb30gCysbRtebDRgYLfpjnP9UdQ8IapoqnVwTcFJB9llSr0KMEuIZnXXDGHcmhqfVze0iPBU/2llPTL5jx5Kow/+; Expires=Tue, 13 Sep 2022 19:32:42 GMT; Path=/; SameSite=None; Secure', 'Access-Control-Allow-Headers': 'Content-Type, Authorization, X-Requested-With', 'Access-Control-Allow-Methods': 'POST, PUT, GET, OPTIONS', 'Access-Control-Allow-Origin': '*', 'Server': 'TornadoServer/6.1'}\n",
      "--------------------------------------------------\n",
      "history --- []\n",
      "--------------------------------------------------\n",
      "is_permanent_redirect --- False\n",
      "--------------------------------------------------\n",
      "is_redirect --- False\n",
      "--------------------------------------------------\n",
      "iter_content --- <bound method Response.iter_content of <Response [200]>>\n",
      "--------------------------------------------------\n",
      "iter_lines --- <bound method Response.iter_lines of <Response [200]>>\n",
      "--------------------------------------------------\n",
      "json --- <bound method Response.json of <Response [200]>>\n",
      "--------------------------------------------------\n",
      "links --- {}\n",
      "--------------------------------------------------\n",
      "next --- None\n",
      "--------------------------------------------------\n",
      "ok --- True\n",
      "--------------------------------------------------\n",
      "raise_for_status --- <bound method Response.raise_for_status of <Response [200]>>\n",
      "--------------------------------------------------\n",
      "raw --- <urllib3.response.HTTPResponse object at 0x0000022713D5F2E0>\n",
      "--------------------------------------------------\n",
      "reason --- OK\n",
      "--------------------------------------------------\n",
      "request --- <PreparedRequest [POST]>\n",
      "--------------------------------------------------\n",
      "status_code --- 200\n",
      "--------------------------------------------------\n",
      "text --- {\"upload_url\": \"https://cdn.assemblyai.com/upload/42bef839-18c7-4252-9fec-0ea53075d633\"}\n",
      "--------------------------------------------------\n",
      "url --- https://api.assemblyai.com/v2/upload\n"
     ]
    }
   ],
   "source": [
    "for i in dir(upload_response):\n",
    "    if not i.startswith(\"_\"):\n",
    "        print('-'*50)\n",
    "        print(i, '---', getattr(upload_response, i))"
   ]
  },
  {
   "cell_type": "code",
   "execution_count": 13,
   "id": "2102fa53",
   "metadata": {
    "pycharm": {
     "name": "#%%\n"
    }
   },
   "outputs": [
    {
     "data": {
      "text/plain": "True"
     },
     "execution_count": 13,
     "metadata": {},
     "output_type": "execute_result"
    }
   ],
   "source": [
    "upload_response.status_code == 200"
   ]
  },
  {
   "cell_type": "code",
   "execution_count": 14,
   "id": "ce46a6c8",
   "metadata": {
    "pycharm": {
     "name": "#%%\n"
    }
   },
   "outputs": [
    {
     "data": {
      "text/plain": "{'upload_url': 'https://cdn.assemblyai.com/upload/42bef839-18c7-4252-9fec-0ea53075d633'}"
     },
     "execution_count": 14,
     "metadata": {},
     "output_type": "execute_result"
    }
   ],
   "source": [
    "upload_response.json()"
   ]
  },
  {
   "cell_type": "code",
   "execution_count": 16,
   "id": "7ed0f0a4",
   "metadata": {
    "pycharm": {
     "name": "#%%\n"
    }
   },
   "outputs": [],
   "source": [
    "# For restarting so dont have to re run\n",
    "upload_response = 'https://cdn.assemblyai.com/upload/42bef839-18c7-4252-9fec-0ea53075d633'"
   ]
  },
  {
   "cell_type": "markdown",
   "id": "8426f0bc-d62b-4abc-8ff0-e0fb6f69451d",
   "metadata": {
    "pycharm": {
     "name": "#%% md\n"
    }
   },
   "source": [
    "## Request Transcript"
   ]
  },
  {
   "cell_type": "code",
   "execution_count": 17,
   "outputs": [],
   "source": [
    "def request_transcript(upload_url, header, **kwargs):\n",
    "    # If input is a dict returned from `upload_file` rather than a raw upload_url string\n",
    "    if type(upload_url) is dict:\n",
    "        upload_url = upload_url['upload_url']\n",
    "\n",
    "    # Create request\n",
    "    transcript_request = {\n",
    "        'audio_url': upload_url,\n",
    "        **kwargs\n",
    "    }\n",
    "\n",
    "    # POST request\n",
    "    transcript_response = requests.post(\n",
    "        transcript_endpoint,\n",
    "        json=transcript_request,\n",
    "        headers=header\n",
    "    )\n",
    "\n",
    "    return transcript_response.json()"
   ],
   "metadata": {
    "collapsed": false,
    "pycharm": {
     "name": "#%%\n"
    }
   }
  },
  {
   "cell_type": "code",
   "execution_count": 18,
   "outputs": [],
   "source": [
    "json_dict = {\n",
    "    'redact_pii_policies': ['drug', 'injury', 'person_name'],\n",
    "    'auto_chapters': 'true',\n",
    "    'auto_highlights': 'true',\n",
    "    'iab_categories': 'true',\n",
    "    'entity_detection': 'true',\n",
    "    'sentiment_analysis': 'true',\n",
    "    'redact_pii': 'true',\n",
    "    'content_safety': 'true',\n",
    "}"
   ],
   "metadata": {
    "collapsed": false,
    "pycharm": {
     "name": "#%%\n"
    }
   }
  },
  {
   "cell_type": "code",
   "execution_count": 19,
   "id": "f80371c0-ac5d-47a3-b1db-0e539eb47364",
   "metadata": {
    "pycharm": {
     "name": "#%%\n"
    }
   },
   "outputs": [],
   "source": [
    "transcript_request_response = request_transcript(upload_response, header, **json_dict)"
   ]
  },
  {
   "cell_type": "code",
   "execution_count": 20,
   "id": "c95d4706-8091-49ae-b429-92af9aa57575",
   "metadata": {
    "pycharm": {
     "name": "#%%\n"
    }
   },
   "outputs": [
    {
     "data": {
      "text/plain": "{'id': 'owke4eku0d-8ac7-4729-bdb9-1a42fcf6f70b',\n 'language_model': 'assemblyai_default',\n 'acoustic_model': 'assemblyai_default',\n 'language_code': 'en_us',\n 'status': 'queued',\n 'audio_url': 'https://cdn.assemblyai.com/upload/42bef839-18c7-4252-9fec-0ea53075d633',\n 'text': None,\n 'words': None,\n 'utterances': None,\n 'confidence': None,\n 'audio_duration': None,\n 'punctuate': True,\n 'format_text': True,\n 'dual_channel': None,\n 'webhook_url': None,\n 'webhook_status_code': None,\n 'webhook_auth': False,\n 'webhook_auth_header_name': None,\n 'speed_boost': False,\n 'auto_highlights_result': None,\n 'auto_highlights': True,\n 'audio_start_from': None,\n 'audio_end_at': None,\n 'word_boost': [],\n 'boost_param': None,\n 'filter_profanity': False,\n 'redact_pii': True,\n 'redact_pii_audio': False,\n 'redact_pii_audio_quality': 'mp3',\n 'redact_pii_policies': ['drug', 'injury', 'person_name'],\n 'redact_pii_sub': 'hash',\n 'speaker_labels': False,\n 'content_safety': True,\n 'iab_categories': True,\n 'content_safety_labels': {},\n 'iab_categories_result': {},\n 'language_detection': False,\n 'custom_spelling': None,\n 'disfluencies': False,\n 'sentiment_analysis': 'true',\n 'sentiment_analysis_results': None,\n 'auto_chapters': 'true',\n 'chapters': None,\n 'entity_detection': 'true',\n 'entities': None}"
     },
     "execution_count": 20,
     "metadata": {},
     "output_type": "execute_result"
    }
   ],
   "source": [
    "transcript_request_response"
   ]
  },
  {
   "cell_type": "code",
   "execution_count": 24,
   "id": "41c29c52",
   "metadata": {
    "pycharm": {
     "name": "#%%\n"
    }
   },
   "outputs": [
    {
     "name": "stdout",
     "output_type": "stream",
     "text": [
      "--------------------------------------------------\n",
      "clear --- <built-in method clear of dict object at 0x0000022713DCC300>\n",
      "--------------------------------------------------\n",
      "copy --- <built-in method copy of dict object at 0x0000022713DCC300>\n",
      "--------------------------------------------------\n",
      "fromkeys --- <built-in method fromkeys of type object at 0x00007FFFCDDBEBB0>\n",
      "--------------------------------------------------\n",
      "get --- <built-in method get of dict object at 0x0000022713DCC300>\n",
      "--------------------------------------------------\n",
      "items --- <built-in method items of dict object at 0x0000022713DCC300>\n",
      "--------------------------------------------------\n",
      "keys --- <built-in method keys of dict object at 0x0000022713DCC300>\n",
      "--------------------------------------------------\n",
      "pop --- <built-in method pop of dict object at 0x0000022713DCC300>\n",
      "--------------------------------------------------\n",
      "popitem --- <built-in method popitem of dict object at 0x0000022713DCC300>\n",
      "--------------------------------------------------\n",
      "setdefault --- <built-in method setdefault of dict object at 0x0000022713DCC300>\n",
      "--------------------------------------------------\n",
      "update --- <built-in method update of dict object at 0x0000022713DCC300>\n",
      "--------------------------------------------------\n",
      "values --- <built-in method values of dict object at 0x0000022713DCC300>\n"
     ]
    }
   ],
   "source": [
    "for i in dir(transcript_request_response):\n",
    "    if not i.startswith(\"_\"):\n",
    "        print('-'*50)\n",
    "        print(i, '---', getattr(transcript_request_response, i))"
   ]
  },
  {
   "cell_type": "code",
   "execution_count": 28,
   "outputs": [
    {
     "name": "stdout",
     "output_type": "stream",
     "text": [
      "{'id': 'owke4eku0d-8ac7-4729-bdb9-1a42fcf6f70b', 'language_model': 'assemblyai_default', 'acoustic_model': 'assemblyai_default', 'language_code': 'en_us', 'status': 'queued', 'audio_url': 'https://cdn.assemblyai.com/upload/42bef839-18c7-4252-9fec-0ea53075d633', 'text': None, 'words': None, 'utterances': None, 'confidence': None, 'audio_duration': None, 'punctuate': True, 'format_text': True, 'dual_channel': None, 'webhook_url': None, 'webhook_status_code': None, 'webhook_auth': False, 'webhook_auth_header_name': None, 'speed_boost': False, 'auto_highlights_result': None, 'auto_highlights': True, 'audio_start_from': None, 'audio_end_at': None, 'word_boost': [], 'boost_param': None, 'filter_profanity': False, 'redact_pii': True, 'redact_pii_audio': False, 'redact_pii_audio_quality': 'mp3', 'redact_pii_policies': ['drug', 'injury', 'person_name'], 'redact_pii_sub': 'hash', 'speaker_labels': False, 'content_safety': True, 'iab_categories': True, 'content_safety_labels': {}, 'iab_categories_result': {}, 'language_detection': False, 'custom_spelling': None, 'disfluencies': False, 'sentiment_analysis': 'true', 'sentiment_analysis_results': None, 'auto_chapters': 'true', 'chapters': None, 'entity_detection': 'true', 'entities': None}\n"
     ]
    }
   ],
   "source": [
    "print(transcript_request_response)"
   ],
   "metadata": {
    "collapsed": false,
    "pycharm": {
     "name": "#%%\n"
    }
   }
  },
  {
   "cell_type": "markdown",
   "id": "6fc29547-0bdc-4fdf-9fa5-74a0648ae7e4",
   "metadata": {
    "pycharm": {
     "name": "#%% md\n"
    }
   },
   "source": [
    "## Make Polling Endpoint"
   ]
  },
  {
   "cell_type": "code",
   "execution_count": 31,
   "id": "d6b80a22-d441-449c-8fc7-7f7301f710a1",
   "metadata": {
    "pycharm": {
     "name": "#%%\n"
    }
   },
   "outputs": [],
   "source": [
    "def make_polling_endpoint(transcript_id):\n",
    "    # If upload response is input rather than raw upload_url string\n",
    "    if type(transcript_id) is dict:\n",
    "        transcript_id = transcript_id['id']\n",
    "        \n",
    "    polling_endpoint = \"https://api.assemblyai.com/v2/transcript/\" + transcript_id\n",
    "    return polling_endpoint"
   ]
  },
  {
   "cell_type": "code",
   "execution_count": 32,
   "id": "36e0639e-461b-4142-b9be-3803825ab898",
   "metadata": {
    "pycharm": {
     "name": "#%%\n"
    }
   },
   "outputs": [],
   "source": [
    "polling_endpoint = make_polling_endpoint(transcript_request_response)"
   ]
  },
  {
   "cell_type": "code",
   "execution_count": 33,
   "id": "3fdecf2c-0cf4-4d48-8764-6f75cfa34c90",
   "metadata": {
    "pycharm": {
     "name": "#%%\n"
    }
   },
   "outputs": [
    {
     "data": {
      "text/plain": "'https://api.assemblyai.com/v2/transcript/owke4eku0d-8ac7-4729-bdb9-1a42fcf6f70b'"
     },
     "execution_count": 33,
     "metadata": {},
     "output_type": "execute_result"
    }
   ],
   "source": [
    "polling_endpoint"
   ]
  },
  {
   "cell_type": "code",
   "execution_count": 35,
   "id": "8477b25d",
   "metadata": {
    "pycharm": {
     "name": "#%%\n"
    }
   },
   "outputs": [],
   "source": [
    "# so dont have to rerun transcript if restart notebook\n",
    "polling_endpoint = \"https://api.assemblyai.com/v2/transcript/owke4eku0d-8ac7-4729-bdb9-1a42fcf6f70b\""
   ]
  },
  {
   "cell_type": "markdown",
   "id": "ad9494b5-598b-4331-a305-a6a7a12d9d9e",
   "metadata": {
    "pycharm": {
     "name": "#%% md\n"
    }
   },
   "source": [
    "## Wait for Completion"
   ]
  },
  {
   "cell_type": "code",
   "execution_count": 36,
   "id": "d173a5ec-e71a-438c-a063-99283334c05b",
   "metadata": {
    "pycharm": {
     "name": "#%%\n"
    }
   },
   "outputs": [],
   "source": [
    "def wait_for_completion(polling_endpoint, header):\n",
    "    while True:\n",
    "        polling_response = requests.get(polling_endpoint, headers=header)\n",
    "        polling_response = polling_response.json()\n",
    "\n",
    "        if polling_response['status'] == 'completed':\n",
    "            break\n",
    "        elif polling_response['status'] == 'error':\n",
    "            raise Exception(f\"Error: {polling_response['error']}\")\n",
    "\n",
    "        time.sleep(5)"
   ]
  },
  {
   "cell_type": "code",
   "execution_count": 37,
   "id": "3b5b52f9-6153-4408-9b62-e93bd5f44712",
   "metadata": {
    "pycharm": {
     "name": "#%%\n"
    }
   },
   "outputs": [],
   "source": [
    "wait_for_completion(polling_endpoint, header)"
   ]
  },
  {
   "cell_type": "code",
   "execution_count": 38,
   "id": "4450cb23-f167-4a1f-9a59-60e7269b06fd",
   "metadata": {
    "pycharm": {
     "name": "#%%\n"
    }
   },
   "outputs": [
    {
     "data": {
      "text/plain": "'completed'"
     },
     "execution_count": 38,
     "metadata": {},
     "output_type": "execute_result"
    }
   ],
   "source": [
    "polling_response = requests.get(polling_endpoint, headers=header)\n",
    "polling_response.json()['status']"
   ]
  },
  {
   "cell_type": "markdown",
   "id": "40ecc83b-0f32-4558-96be-aa5172e5e51f",
   "metadata": {
    "pycharm": {
     "name": "#%% md\n"
    }
   },
   "source": [
    "## Fetch Results"
   ]
  },
  {
   "cell_type": "code",
   "execution_count": 45,
   "outputs": [],
   "source": [
    "with open('response.json', 'w') as f:\n",
    "    f.write(json.dumps(requests.get(polling_endpoint, headers=header).json()))"
   ],
   "metadata": {
    "collapsed": false,
    "pycharm": {
     "name": "#%%\n"
    }
   }
  },
  {
   "cell_type": "code",
   "execution_count": 14,
   "id": "5d0e854a-722b-4178-af0c-dddb101e9422",
   "metadata": {
    "pycharm": {
     "name": "#%%\n"
    }
   },
   "outputs": [],
   "source": [
    "# Get the paragraphs of the transcript\n",
    "def get_paragraphs(polling_endpoint, header):\n",
    "    paragraphs_response = requests.get(polling_endpoint + \"/paragraphs\", headers=header)\n",
    "    paragraphs_response = paragraphs_response.json()\n",
    "\n",
    "    paragraphs = []\n",
    "    for para in paragraphs_response['paragraphs']:\n",
    "        paragraphs.append(para)\n",
    "\n",
    "    return paragraphs"
   ]
  },
  {
   "cell_type": "markdown",
   "id": "fc42c77f-4089-4363-8cfc-53db7b188271",
   "metadata": {
    "pycharm": {
     "name": "#%% md\n"
    }
   },
   "source": [
    "get_paragraphs(polling_endpoint, header)"
   ]
  },
  {
   "cell_type": "code",
   "execution_count": 16,
   "id": "7021d7aa",
   "metadata": {
    "pycharm": {
     "name": "#%%\n"
    }
   },
   "outputs": [],
   "source": [
    "# Just to see what else is here\n",
    "paragraphs_response = requests.get(polling_endpoint + \"/paragraphs\", headers=header)\n",
    "paragraphs_response = paragraphs_response.json()"
   ]
  },
  {
   "cell_type": "markdown",
   "source": [
    "# Testing Stuff"
   ],
   "metadata": {
    "collapsed": false,
    "pycharm": {
     "name": "#%% md\n"
    }
   }
  },
  {
   "cell_type": "markdown",
   "source": [
    "## IAB Categories response"
   ],
   "metadata": {
    "collapsed": false,
    "pycharm": {
     "name": "#%% md\n"
    }
   }
  },
  {
   "cell_type": "code",
   "execution_count": 46,
   "outputs": [
    {
     "ename": "JSONDecodeError",
     "evalue": "Expecting value: line 1 column 1 (char 0)",
     "output_type": "error",
     "traceback": [
      "\u001B[1;31m---------------------------------------------------------------------------\u001B[0m",
      "\u001B[1;31mJSONDecodeError\u001B[0m                           Traceback (most recent call last)",
      "Input \u001B[1;32mIn [46]\u001B[0m, in \u001B[0;36m<cell line: 1>\u001B[1;34m()\u001B[0m\n\u001B[1;32m----> 1\u001B[0m j \u001B[38;5;241m=\u001B[39m \u001B[43mjson\u001B[49m\u001B[38;5;241;43m.\u001B[39;49m\u001B[43mloads\u001B[49m\u001B[43m(\u001B[49m\u001B[38;5;124;43m\"\u001B[39;49m\u001B[38;5;124;43mresponse.json\u001B[39;49m\u001B[38;5;124;43m\"\u001B[39;49m\u001B[43m)\u001B[49m\n",
      "File \u001B[1;32m~\\AppData\\Local\\Programs\\Python\\Python310\\lib\\json\\__init__.py:346\u001B[0m, in \u001B[0;36mloads\u001B[1;34m(s, cls, object_hook, parse_float, parse_int, parse_constant, object_pairs_hook, **kw)\u001B[0m\n\u001B[0;32m    341\u001B[0m     s \u001B[38;5;241m=\u001B[39m s\u001B[38;5;241m.\u001B[39mdecode(detect_encoding(s), \u001B[38;5;124m'\u001B[39m\u001B[38;5;124msurrogatepass\u001B[39m\u001B[38;5;124m'\u001B[39m)\n\u001B[0;32m    343\u001B[0m \u001B[38;5;28;01mif\u001B[39;00m (\u001B[38;5;28mcls\u001B[39m \u001B[38;5;129;01mis\u001B[39;00m \u001B[38;5;28;01mNone\u001B[39;00m \u001B[38;5;129;01mand\u001B[39;00m object_hook \u001B[38;5;129;01mis\u001B[39;00m \u001B[38;5;28;01mNone\u001B[39;00m \u001B[38;5;129;01mand\u001B[39;00m\n\u001B[0;32m    344\u001B[0m         parse_int \u001B[38;5;129;01mis\u001B[39;00m \u001B[38;5;28;01mNone\u001B[39;00m \u001B[38;5;129;01mand\u001B[39;00m parse_float \u001B[38;5;129;01mis\u001B[39;00m \u001B[38;5;28;01mNone\u001B[39;00m \u001B[38;5;129;01mand\u001B[39;00m\n\u001B[0;32m    345\u001B[0m         parse_constant \u001B[38;5;129;01mis\u001B[39;00m \u001B[38;5;28;01mNone\u001B[39;00m \u001B[38;5;129;01mand\u001B[39;00m object_pairs_hook \u001B[38;5;129;01mis\u001B[39;00m \u001B[38;5;28;01mNone\u001B[39;00m \u001B[38;5;129;01mand\u001B[39;00m \u001B[38;5;129;01mnot\u001B[39;00m kw):\n\u001B[1;32m--> 346\u001B[0m     \u001B[38;5;28;01mreturn\u001B[39;00m \u001B[43m_default_decoder\u001B[49m\u001B[38;5;241;43m.\u001B[39;49m\u001B[43mdecode\u001B[49m\u001B[43m(\u001B[49m\u001B[43ms\u001B[49m\u001B[43m)\u001B[49m\n\u001B[0;32m    347\u001B[0m \u001B[38;5;28;01mif\u001B[39;00m \u001B[38;5;28mcls\u001B[39m \u001B[38;5;129;01mis\u001B[39;00m \u001B[38;5;28;01mNone\u001B[39;00m:\n\u001B[0;32m    348\u001B[0m     \u001B[38;5;28mcls\u001B[39m \u001B[38;5;241m=\u001B[39m JSONDecoder\n",
      "File \u001B[1;32m~\\AppData\\Local\\Programs\\Python\\Python310\\lib\\json\\decoder.py:337\u001B[0m, in \u001B[0;36mJSONDecoder.decode\u001B[1;34m(self, s, _w)\u001B[0m\n\u001B[0;32m    332\u001B[0m \u001B[38;5;28;01mdef\u001B[39;00m \u001B[38;5;21mdecode\u001B[39m(\u001B[38;5;28mself\u001B[39m, s, _w\u001B[38;5;241m=\u001B[39mWHITESPACE\u001B[38;5;241m.\u001B[39mmatch):\n\u001B[0;32m    333\u001B[0m     \u001B[38;5;124;03m\"\"\"Return the Python representation of ``s`` (a ``str`` instance\u001B[39;00m\n\u001B[0;32m    334\u001B[0m \u001B[38;5;124;03m    containing a JSON document).\u001B[39;00m\n\u001B[0;32m    335\u001B[0m \n\u001B[0;32m    336\u001B[0m \u001B[38;5;124;03m    \"\"\"\u001B[39;00m\n\u001B[1;32m--> 337\u001B[0m     obj, end \u001B[38;5;241m=\u001B[39m \u001B[38;5;28;43mself\u001B[39;49m\u001B[38;5;241;43m.\u001B[39;49m\u001B[43mraw_decode\u001B[49m\u001B[43m(\u001B[49m\u001B[43ms\u001B[49m\u001B[43m,\u001B[49m\u001B[43m \u001B[49m\u001B[43midx\u001B[49m\u001B[38;5;241;43m=\u001B[39;49m\u001B[43m_w\u001B[49m\u001B[43m(\u001B[49m\u001B[43ms\u001B[49m\u001B[43m,\u001B[49m\u001B[43m \u001B[49m\u001B[38;5;241;43m0\u001B[39;49m\u001B[43m)\u001B[49m\u001B[38;5;241;43m.\u001B[39;49m\u001B[43mend\u001B[49m\u001B[43m(\u001B[49m\u001B[43m)\u001B[49m\u001B[43m)\u001B[49m\n\u001B[0;32m    338\u001B[0m     end \u001B[38;5;241m=\u001B[39m _w(s, end)\u001B[38;5;241m.\u001B[39mend()\n\u001B[0;32m    339\u001B[0m     \u001B[38;5;28;01mif\u001B[39;00m end \u001B[38;5;241m!=\u001B[39m \u001B[38;5;28mlen\u001B[39m(s):\n",
      "File \u001B[1;32m~\\AppData\\Local\\Programs\\Python\\Python310\\lib\\json\\decoder.py:355\u001B[0m, in \u001B[0;36mJSONDecoder.raw_decode\u001B[1;34m(self, s, idx)\u001B[0m\n\u001B[0;32m    353\u001B[0m     obj, end \u001B[38;5;241m=\u001B[39m \u001B[38;5;28mself\u001B[39m\u001B[38;5;241m.\u001B[39mscan_once(s, idx)\n\u001B[0;32m    354\u001B[0m \u001B[38;5;28;01mexcept\u001B[39;00m \u001B[38;5;167;01mStopIteration\u001B[39;00m \u001B[38;5;28;01mas\u001B[39;00m err:\n\u001B[1;32m--> 355\u001B[0m     \u001B[38;5;28;01mraise\u001B[39;00m JSONDecodeError(\u001B[38;5;124m\"\u001B[39m\u001B[38;5;124mExpecting value\u001B[39m\u001B[38;5;124m\"\u001B[39m, s, err\u001B[38;5;241m.\u001B[39mvalue) \u001B[38;5;28;01mfrom\u001B[39;00m \u001B[38;5;28mNone\u001B[39m\n\u001B[0;32m    356\u001B[0m \u001B[38;5;28;01mreturn\u001B[39;00m obj, end\n",
      "\u001B[1;31mJSONDecodeError\u001B[0m: Expecting value: line 1 column 1 (char 0)"
     ]
    }
   ],
   "source": [
    "j = json.loads(\"response.json\")"
   ],
   "metadata": {
    "collapsed": false,
    "pycharm": {
     "name": "#%%\n"
    }
   }
  },
  {
   "cell_type": "code",
   "execution_count": 130,
   "outputs": [],
   "source": [
    "dic = {\n",
    "      \"Travel>TravelLocations>AfricaTravel\": 1.0,\n",
    "      \"Travel>TravelLocations>EuropeTravel\": 0.7229765057563782,\n",
    "      \"NewsAndPolitics>Politics\": 0.22560375928878784,\n",
    "      \"Religion&Spirituality>Christianity\": 0.17373540997505188,\n",
    "      \"NewsAndPolitics>Law\": 0.10182195901870728,\n",
    "      \"EventsAndAttractions>PoliticalEvent\": 0.09067431092262268,\n",
    "      \"FamilyAndRelationships>MarriageAndCivilUnions\": 0.05113469809293747,\n",
    "      \"Travel>TravelLocations>NorthAmericaTravel\": 0.04764898121356964,\n",
    "      \"NewsAndPolitics>Politics>PoliticalIssues\": 0.03767641261219978,\n",
    "      \"NewsAndPolitics>Politics>WarAndConflicts\": 0.025518830865621567,\n",
    "      \"Travel>TravelLocations>AustraliaAndOceaniaTravel\": 0.023581648245453835,\n",
    "      \"Hobbies&Interests>GenealogyAndAncestry\": 0.013975286856293678,\n",
    "      \"Religion&Spirituality>Judaism\": 0.012308650650084019,\n",
    "      \"NewsAndPolitics>Crime\": 0.012244840152561665,\n",
    "      \"Science>Geography\": 0.010910360142588615,\n",
    "      \"BooksAndLiterature>Biographies\": 0.010122659616172314,\n",
    "      \"Technology&Computing>Computing>Internet\": 0.00969504751265049,\n",
    "      \"PersonalFinance>HomeUtilities>InternetServiceProviders\": 0.00960697140544653,\n",
    "      \"Religion&Spirituality\": 0.008793771266937256,\n",
    "      \"NewsAndPolitics>Politics>Elections\": 0.008565575815737247\n",
    "    }\n",
    "\n",
    "c = list(dic.keys())"
   ],
   "metadata": {
    "collapsed": false,
    "pycharm": {
     "name": "#%%\n"
    }
   }
  },
  {
   "cell_type": "code",
   "execution_count": 131,
   "outputs": [],
   "source": [
    "c.sort()"
   ],
   "metadata": {
    "collapsed": false,
    "pycharm": {
     "name": "#%%\n"
    }
   }
  },
  {
   "cell_type": "code",
   "execution_count": 132,
   "outputs": [
    {
     "data": {
      "text/plain": "['BooksAndLiterature>Biographies',\n 'EventsAndAttractions>PoliticalEvent',\n 'FamilyAndRelationships>MarriageAndCivilUnions',\n 'Hobbies&Interests>GenealogyAndAncestry',\n 'NewsAndPolitics>Crime',\n 'NewsAndPolitics>Law',\n 'NewsAndPolitics>Politics',\n 'NewsAndPolitics>Politics>Elections',\n 'NewsAndPolitics>Politics>PoliticalIssues',\n 'NewsAndPolitics>Politics>WarAndConflicts',\n 'PersonalFinance>HomeUtilities>InternetServiceProviders',\n 'Religion&Spirituality',\n 'Religion&Spirituality>Christianity',\n 'Religion&Spirituality>Judaism',\n 'Science>Geography',\n 'Technology&Computing>Computing>Internet',\n 'Travel>TravelLocations>AfricaTravel',\n 'Travel>TravelLocations>AustraliaAndOceaniaTravel',\n 'Travel>TravelLocations>EuropeTravel',\n 'Travel>TravelLocations>NorthAmericaTravel']"
     },
     "execution_count": 132,
     "metadata": {},
     "output_type": "execute_result"
    }
   ],
   "source": [
    "c"
   ],
   "metadata": {
    "collapsed": false,
    "pycharm": {
     "name": "#%%\n"
    }
   }
  },
  {
   "cell_type": "code",
   "execution_count": 193,
   "outputs": [],
   "source": [
    "def make_tree(c, ukey=''):\n",
    "    # Create empty dict for current sublist\n",
    "    d = dict()\n",
    "    # If leaf, return None (alternative behavior: get rid of ukey and return None for if c is None)\n",
    "    if c is None and ukey is None:\n",
    "        return None\n",
    "    elif c is None:\n",
    "        return {None: None}\n",
    "    else:\n",
    "        for n, i in enumerate(c):\n",
    "            # For topics with sublist e.g. if ['NewsAndPolitics' 'Politics'] and ['NewsAndPolitics' 'Politics', 'Elections] are both in list - need way to signify politics itself included\n",
    "            if i is None:\n",
    "                d[None] = None\n",
    "            # If next subtopic not in dict, add it. If the remaining list empty, make value None\n",
    "            elif i[0] not in d.keys():\n",
    "                topic = i.pop(0)\n",
    "                d[topic] = None if i == [] else [i]\n",
    "            # If subtopic already in dict\n",
    "            else:\n",
    "                # If the value for this subtopic is only None (i.e. subject itself is a leaf), then append sublist\n",
    "                if d[i[0]] is None:\n",
    "                    d[i[0]] = [None, i[1:]]\n",
    "                # If value for this subtopic is a list itself, then append the remaining list\n",
    "                else:\n",
    "                    d[i[0]].append(i[1:])\n",
    "        # Recurse on remaining leaves\n",
    "        for key in d:\n",
    "            d[key] = make_tree(d[key], key)\n",
    "    return d"
   ],
   "metadata": {
    "collapsed": false,
    "pycharm": {
     "name": "#%%\n"
    }
   }
  },
  {
   "cell_type": "code",
   "execution_count": 135,
   "outputs": [
    {
     "data": {
      "text/plain": "['BooksAndLiterature>Biographies',\n 'EventsAndAttractions>PoliticalEvent',\n 'FamilyAndRelationships>MarriageAndCivilUnions',\n 'Hobbies&Interests>GenealogyAndAncestry',\n 'NewsAndPolitics>Crime',\n 'NewsAndPolitics>Law',\n 'NewsAndPolitics>Politics',\n 'NewsAndPolitics>Politics>Elections',\n 'NewsAndPolitics>Politics>PoliticalIssues',\n 'NewsAndPolitics>Politics>WarAndConflicts',\n 'PersonalFinance>HomeUtilities>InternetServiceProviders',\n 'Religion&Spirituality',\n 'Religion&Spirituality>Christianity',\n 'Religion&Spirituality>Judaism',\n 'Science>Geography',\n 'Technology&Computing>Computing>Internet',\n 'Travel>TravelLocations>AfricaTravel',\n 'Travel>TravelLocations>AustraliaAndOceaniaTravel',\n 'Travel>TravelLocations>EuropeTravel',\n 'Travel>TravelLocations>NorthAmericaTravel']"
     },
     "execution_count": 135,
     "metadata": {},
     "output_type": "execute_result"
    }
   ],
   "source": [
    "c_orig = c"
   ],
   "metadata": {
    "collapsed": false,
    "pycharm": {
     "name": "#%%\n"
    }
   }
  },
  {
   "cell_type": "code",
   "execution_count": 194,
   "outputs": [],
   "source": [
    "c = [i.split(\">\") for i in c_orig]"
   ],
   "metadata": {
    "collapsed": false,
    "pycharm": {
     "name": "#%%\n"
    }
   }
  },
  {
   "cell_type": "code",
   "execution_count": 195,
   "outputs": [
    {
     "data": {
      "text/plain": "[['BooksAndLiterature', 'Biographies'],\n ['EventsAndAttractions', 'PoliticalEvent'],\n ['FamilyAndRelationships', 'MarriageAndCivilUnions'],\n ['Hobbies&Interests', 'GenealogyAndAncestry'],\n ['NewsAndPolitics', 'Crime'],\n ['NewsAndPolitics', 'Law'],\n ['NewsAndPolitics', 'Politics'],\n ['NewsAndPolitics', 'Politics', 'Elections'],\n ['NewsAndPolitics', 'Politics', 'PoliticalIssues'],\n ['NewsAndPolitics', 'Politics', 'WarAndConflicts'],\n ['PersonalFinance', 'HomeUtilities', 'InternetServiceProviders'],\n ['Religion&Spirituality'],\n ['Religion&Spirituality', 'Christianity'],\n ['Religion&Spirituality', 'Judaism'],\n ['Science', 'Geography'],\n ['Technology&Computing', 'Computing', 'Internet'],\n ['Travel', 'TravelLocations', 'AfricaTravel'],\n ['Travel', 'TravelLocations', 'AustraliaAndOceaniaTravel'],\n ['Travel', 'TravelLocations', 'EuropeTravel'],\n ['Travel', 'TravelLocations', 'NorthAmericaTravel']]"
     },
     "execution_count": 195,
     "metadata": {},
     "output_type": "execute_result"
    }
   ],
   "source": [
    "c"
   ],
   "metadata": {
    "collapsed": false,
    "pycharm": {
     "name": "#%%\n"
    }
   }
  },
  {
   "cell_type": "code",
   "execution_count": 197,
   "outputs": [],
   "source": [
    "m = make_tree(c, '')"
   ],
   "metadata": {
    "collapsed": false,
    "pycharm": {
     "name": "#%%\n"
    }
   }
  },
  {
   "cell_type": "code",
   "execution_count": 183,
   "outputs": [
    {
     "data": {
      "text/plain": "{'BooksAndLiterature': {'Biographies': None},\n 'EventsAndAttractions': {'PoliticalEvent': None},\n 'FamilyAndRelationships': {'MarriageAndCivilUnions': None},\n 'Hobbies&Interests': {'GenealogyAndAncestry': None},\n 'NewsAndPolitics': {'Crime': None,\n  'Law': None,\n  'Politics': {None: None,\n   'Elections': None,\n   'PoliticalIssues': None,\n   'WarAndConflicts': None}},\n 'PersonalFinance': {'HomeUtilities': {'InternetServiceProviders': None}},\n 'Religion&Spirituality': {None: None, 'Christianity': None, 'Judaism': None},\n 'Science': {'Geography': None},\n 'Technology&Computing': {'Computing': {'Internet': None}},\n 'Travel': {'TravelLocations': {'AfricaTravel': None,\n   'AustraliaAndOceaniaTravel': None,\n   'EuropeTravel': None,\n   'NorthAmericaTravel': None}}}"
     },
     "execution_count": 183,
     "metadata": {},
     "output_type": "execute_result"
    }
   ],
   "source": [
    "m"
   ],
   "metadata": {
    "collapsed": false,
    "pycharm": {
     "name": "#%%\n"
    }
   }
  },
  {
   "cell_type": "code",
   "execution_count": 198,
   "outputs": [
    {
     "data": {
      "text/plain": "{'BooksAndLiterature': {'Biographies': {None: None}},\n 'EventsAndAttractions': {'PoliticalEvent': {None: None}},\n 'FamilyAndRelationships': {'MarriageAndCivilUnions': {None: None}},\n 'Hobbies&Interests': {'GenealogyAndAncestry': {None: None}},\n 'NewsAndPolitics': {'Crime': {None: None},\n  'Law': {None: None},\n  'Politics': {None: None,\n   'Elections': {None: None},\n   'PoliticalIssues': {None: None},\n   'WarAndConflicts': {None: None}}},\n 'PersonalFinance': {'HomeUtilities': {'InternetServiceProviders': {None: None}}},\n 'Religion&Spirituality': {None: None,\n  'Christianity': {None: None},\n  'Judaism': {None: None}},\n 'Science': {'Geography': {None: None}},\n 'Technology&Computing': {'Computing': {'Internet': {None: None}}},\n 'Travel': {'TravelLocations': {'AfricaTravel': {None: None},\n   'AustraliaAndOceaniaTravel': {None: None},\n   'EuropeTravel': {None: None},\n   'NorthAmericaTravel': {None: None}}}}"
     },
     "execution_count": 198,
     "metadata": {},
     "output_type": "execute_result"
    }
   ],
   "source": [
    "m"
   ],
   "metadata": {
    "collapsed": false,
    "pycharm": {
     "name": "#%%\n"
    }
   }
  },
  {
   "cell_type": "code",
   "execution_count": 100,
   "outputs": [
    {
     "data": {
      "text/plain": "True"
     },
     "execution_count": 100,
     "metadata": {},
     "output_type": "execute_result"
    }
   ],
   "source": [
    "type({}) is dict"
   ],
   "metadata": {
    "collapsed": false,
    "pycharm": {
     "name": "#%%\n"
    }
   }
  },
  {
   "cell_type": "code",
   "execution_count": 65,
   "outputs": [
    {
     "data": {
      "text/plain": "{}"
     },
     "execution_count": 65,
     "metadata": {},
     "output_type": "execute_result"
    }
   ],
   "source": [
    "dict()"
   ],
   "metadata": {
    "collapsed": false,
    "pycharm": {
     "name": "#%%\n"
    }
   }
  },
  {
   "cell_type": "code",
   "execution_count": null,
   "outputs": [],
   "source": [],
   "metadata": {
    "collapsed": false,
    "pycharm": {
     "name": "#%%\n"
    }
   }
  },
  {
   "cell_type": "markdown",
   "id": "535416ab-e3cd-4c18-9f77-a39677856e4d",
   "metadata": {
    "tags": [],
    "pycharm": {
     "name": "#%% md\n"
    }
   },
   "source": [
    "# Gradio App Demo"
   ]
  },
  {
   "cell_type": "code",
   "execution_count": 1,
   "id": "3b4f7b37-008c-4cfc-8431-0323fb42dbf5",
   "metadata": {
    "pycharm": {
     "name": "#%%\n"
    }
   },
   "outputs": [],
   "source": [
    "%%capture\n",
    "\n",
    "!pip install gradio"
   ]
  },
  {
   "cell_type": "code",
   "execution_count": null,
   "id": "e6e66b8f",
   "metadata": {
    "pycharm": {
     "name": "#%%\n"
    }
   },
   "outputs": [],
   "source": [
    "# virtualenv venv\n",
    "# .\\venv\\Scripts\\activate.bat\n",
    "# pip install jupyter\n",
    "# ipython kernel install --name \"gradio-venv\" --user"
   ]
  },
  {
   "cell_type": "code",
   "execution_count": 4,
   "id": "9199b0c5-1f6e-4f2a-af96-2ca819ff26b4",
   "metadata": {
    "pycharm": {
     "name": "#%%\n"
    }
   },
   "outputs": [],
   "source": [
    "API_KEY = \"a6f53d3fe7f542be8ce148432f0ff9a0\""
   ]
  },
  {
   "cell_type": "code",
   "execution_count": 3,
   "id": "aaaa2a49-95a5-4df3-8a42-448bef61f341",
   "metadata": {
    "pycharm": {
     "name": "#%%\n"
    }
   },
   "outputs": [],
   "source": [
    "import gradio as gr"
   ]
  },
  {
   "cell_type": "code",
   "execution_count": 6,
   "id": "21e7a1e1-ae5d-4f50-b51d-7163e91e6863",
   "metadata": {
    "pycharm": {
     "name": "#%%\n"
    }
   },
   "outputs": [
    {
     "name": "stdout",
     "output_type": "stream",
     "text": [
      "Running on local URL:  http://127.0.0.1:7861/\n",
      "\n",
      "To create a public link, set `share=True` in `launch()`.\n"
     ]
    },
    {
     "data": {
      "text/html": [
       "<div><iframe src=\"http://127.0.0.1:7861/\" width=\"900\" height=\"500\" allow=\"autoplay; camera; microphone;\" frameborder=\"0\" allowfullscreen></iframe></div>"
      ],
      "text/plain": [
       "<IPython.core.display.HTML object>"
      ]
     },
     "metadata": {},
     "output_type": "display_data"
    },
    {
     "data": {
      "text/plain": [
       "(<gradio.routes.App at 0x211296a7640>, 'http://127.0.0.1:7861/', None)"
      ]
     },
     "execution_count": 6,
     "metadata": {},
     "output_type": "execute_result"
    }
   ],
   "source": [
    "def greet(name):\n",
    "    return \"hello\"+name\n",
    "\n",
    "with gr.Blocks(css=\"body {background-color: red}\") as demo:\n",
    "    name = gr.Textbox()\n",
    "    output = gr.Textbox()\n",
    "    greet_btn = gr.Button()\n",
    "    greet_btn.click(greet, name, output)\n",
    "    \n",
    "demo.launch()"
   ]
  },
  {
   "cell_type": "code",
   "execution_count": 7,
   "id": "78cf4173-d318-4dbb-b9c1-1012f3cf2230",
   "metadata": {
    "pycharm": {
     "name": "#%%\n"
    }
   },
   "outputs": [
    {
     "name": "stdout",
     "output_type": "stream",
     "text": [
      "Running on local URL:  http://127.0.0.1:7862/\n",
      "\n",
      "To create a public link, set `share=True` in `launch()`.\n"
     ]
    },
    {
     "data": {
      "text/html": [
       "<div><iframe src=\"http://127.0.0.1:7862/\" width=\"900\" height=\"500\" allow=\"autoplay; camera; microphone;\" frameborder=\"0\" allowfullscreen></iframe></div>"
      ],
      "text/plain": [
       "<IPython.core.display.HTML object>"
      ]
     },
     "metadata": {},
     "output_type": "display_data"
    },
    {
     "data": {
      "text/plain": [
       "(<gradio.routes.App at 0x2112972f1f0>, 'http://127.0.0.1:7862/', None)"
      ]
     },
     "execution_count": 7,
     "metadata": {},
     "output_type": "execute_result"
    }
   ],
   "source": [
    "import gradio as gr\n",
    "\n",
    "scores = []\n",
    "\n",
    "def track_score(score):\n",
    "    scores.append(score)\n",
    "    top_scores = sorted(scores, reverse=True)[:3]\n",
    "    return top_scores\n",
    "\n",
    "demo = gr.Interface(\n",
    "    track_score, \n",
    "    gr.Number(label=\"Score\"), \n",
    "    gr.JSON(label=\"Top Scores\")\n",
    ")\n",
    "demo.launch()"
   ]
  },
  {
   "cell_type": "code",
   "execution_count": 8,
   "id": "f8fab494-a207-4dcd-a923-a9940a97835d",
   "metadata": {
    "pycharm": {
     "name": "#%%\n"
    }
   },
   "outputs": [
    {
     "name": "stdout",
     "output_type": "stream",
     "text": [
      "Running on local URL:  http://127.0.0.1:7863/\n",
      "\n",
      "To create a public link, set `share=True` in `launch()`.\n"
     ]
    },
    {
     "data": {
      "text/html": [
       "<div><iframe src=\"http://127.0.0.1:7863/\" width=\"900\" height=\"500\" allow=\"autoplay; camera; microphone;\" frameborder=\"0\" allowfullscreen></iframe></div>"
      ],
      "text/plain": [
       "<IPython.core.display.HTML object>"
      ]
     },
     "metadata": {},
     "output_type": "display_data"
    },
    {
     "data": {
      "text/plain": [
       "(<gradio.routes.App at 0x211298b30a0>, 'http://127.0.0.1:7863/', None)"
      ]
     },
     "execution_count": 8,
     "metadata": {},
     "output_type": "execute_result"
    }
   ],
   "source": [
    "import random\n",
    "import gradio as gr\n",
    "\n",
    "def chat(message, history):\n",
    "    history = history or []\n",
    "    message = message.lower()\n",
    "    if message.startswith(\"how many\"):\n",
    "        response = random.randint(1, 10)\n",
    "    elif message.startswith(\"how\"):\n",
    "        response = random.choice([\"Great\", \"Good\", \"Okay\", \"Bad\"])\n",
    "    elif message.startswith(\"where\"):\n",
    "        response = random.choice([\"Here\", \"There\", \"Somewhere\"])\n",
    "    else:\n",
    "        response = \"I don't know\"\n",
    "    history.append((message, response))\n",
    "    return history, history\n",
    "\n",
    "chatbot = gr.Chatbot().style(color_map=(\"green\", \"pink\"))\n",
    "demo = gr.Interface(\n",
    "    chat,\n",
    "    [\"text\", \"state\"],\n",
    "    [chatbot, \"state\"],\n",
    "    allow_flagging=\"never\",\n",
    ")\n",
    "demo.launch()\n"
   ]
  },
  {
   "cell_type": "code",
   "execution_count": 82,
   "id": "2f25e21b-6513-445d-98cd-9b338a7151be",
   "metadata": {
    "pycharm": {
     "name": "#%%\n"
    }
   },
   "outputs": [
    {
     "ename": "AttributeError",
     "evalue": "module 'gradio' has no attribute 'State'",
     "output_type": "error",
     "traceback": [
      "\u001B[1;31m---------------------------------------------------------------------------\u001B[0m",
      "\u001B[1;31mAttributeError\u001B[0m                            Traceback (most recent call last)",
      "Input \u001B[1;32mIn [82]\u001B[0m, in \u001B[0;36m<cell line: 6>\u001B[1;34m()\u001B[0m\n\u001B[0;32m      4\u001B[0m secret_word \u001B[38;5;241m=\u001B[39m \u001B[38;5;124m\"\u001B[39m\u001B[38;5;124mgradio\u001B[39m\u001B[38;5;124m\"\u001B[39m\n\u001B[0;32m      6\u001B[0m \u001B[38;5;28;01mwith\u001B[39;00m gr\u001B[38;5;241m.\u001B[39mBlocks() \u001B[38;5;28;01mas\u001B[39;00m demo:    \n\u001B[1;32m----> 7\u001B[0m     used_letters_var \u001B[38;5;241m=\u001B[39m \u001B[43mgr\u001B[49m\u001B[38;5;241;43m.\u001B[39;49m\u001B[43mState\u001B[49m([])\n\u001B[0;32m      8\u001B[0m     \u001B[38;5;28;01mwith\u001B[39;00m gr\u001B[38;5;241m.\u001B[39mRow() \u001B[38;5;28;01mas\u001B[39;00m row:\n\u001B[0;32m      9\u001B[0m         \u001B[38;5;28;01mwith\u001B[39;00m gr\u001B[38;5;241m.\u001B[39mColumn():\n",
      "\u001B[1;31mAttributeError\u001B[0m: module 'gradio' has no attribute 'State'"
     ]
    }
   ],
   "source": [
    "import gradio as gr\n",
    "import random\n",
    "\n",
    "secret_word = \"gradio\"\n",
    "\n",
    "with gr.Blocks() as demo:    \n",
    "    used_letters_var = gr.State([])\n",
    "    with gr.Row() as row:\n",
    "        with gr.Column():\n",
    "            input_letter = gr.Textbox(label=\"Enter letter\")\n",
    "            btn = gr.Button(\"Guess Letter\")\n",
    "        with gr.Column():\n",
    "            hangman = gr.Textbox(\n",
    "                label=\"Hangman\",\n",
    "                value=\"_\"*len(secret_word)\n",
    "            )\n",
    "            used_letters_box = gr.Textbox(label=\"Used Letters\")\n",
    "\n",
    "    def guess_letter(letter, used_letters):\n",
    "        used_letters.append(letter)\n",
    "        answer = \"\".join([\n",
    "            (letter if letter in used_letters else \"_\")\n",
    "            for letter in secret_word\n",
    "        ])\n",
    "        return {\n",
    "            used_letters_var: used_letters,\n",
    "            used_letters_box: \", \".join(used_letters),\n",
    "            hangman: answer\n",
    "        }\n",
    "    btn.click(\n",
    "        guess_letter, \n",
    "        [input_letter, used_letters_var],\n",
    "        [used_letters_var, used_letters_box, hangman]\n",
    "        )\n",
    "demo.launch()"
   ]
  },
  {
   "cell_type": "code",
   "execution_count": 85,
   "id": "1db3d2ef-f0f8-4c90-98a5-b23cf49dbe83",
   "metadata": {
    "pycharm": {
     "name": "#%%\n"
    }
   },
   "outputs": [
    {
     "ename": "AttributeError",
     "evalue": "module 'gradio' has no attribute 'Tab'",
     "output_type": "error",
     "traceback": [
      "\u001B[1;31m---------------------------------------------------------------------------\u001B[0m",
      "\u001B[1;31mAttributeError\u001B[0m                            Traceback (most recent call last)",
      "Input \u001B[1;32mIn [85]\u001B[0m, in \u001B[0;36m<cell line: 1>\u001B[1;34m()\u001B[0m\n\u001B[0;32m      1\u001B[0m \u001B[38;5;28;01mwith\u001B[39;00m gr\u001B[38;5;241m.\u001B[39mBlocks() \u001B[38;5;28;01mas\u001B[39;00m demo:\n\u001B[1;32m----> 2\u001B[0m     \u001B[38;5;28;01mwith\u001B[39;00m \u001B[43mgr\u001B[49m\u001B[38;5;241;43m.\u001B[39;49m\u001B[43mTab\u001B[49m(\u001B[38;5;124m\"\u001B[39m\u001B[38;5;124mLion\u001B[39m\u001B[38;5;124m\"\u001B[39m):\n\u001B[0;32m      3\u001B[0m         gr\u001B[38;5;241m.\u001B[39mImage(\u001B[38;5;124m\"\u001B[39m\u001B[38;5;124mlion.jpg\u001B[39m\u001B[38;5;124m\"\u001B[39m)\n\u001B[0;32m      4\u001B[0m         gr\u001B[38;5;241m.\u001B[39mButton(\u001B[38;5;124m\"\u001B[39m\u001B[38;5;124mNew Lion\u001B[39m\u001B[38;5;124m\"\u001B[39m)\n",
      "\u001B[1;31mAttributeError\u001B[0m: module 'gradio' has no attribute 'Tab'"
     ]
    }
   ],
   "source": [
    "with gr.Blocks() as demo:\n",
    "    with gr.Tab(\"Lion\"):\n",
    "        gr.Image(\"lion.jpg\")\n",
    "        gr.Button(\"New Lion\")\n",
    "    with gr.Tab(\"Tiger\"):\n",
    "        gr.Image(\"tiger.jpg\")\n",
    "        gr.Button(\"New Tiger\")\n",
    "        \n",
    "demo.launch()"
   ]
  },
  {
   "cell_type": "markdown",
   "id": "5b08f2ef-cfe4-4daf-bba2-613ef35adba2",
   "metadata": {
    "pycharm": {
     "name": "#%% md\n"
    }
   },
   "source": [
    "# Audio Intelligence Dashboard"
   ]
  },
  {
   "cell_type": "code",
   "execution_count": 30,
   "id": "1653bdb9-8eef-42d9-9626-ce3c8fa73c63",
   "metadata": {
    "pycharm": {
     "name": "#%%\n"
    }
   },
   "outputs": [
    {
     "name": "stdout",
     "output_type": "stream",
     "text": [
      "Running on local URL:  http://127.0.0.1:7881/\n",
      "\n",
      "To create a public link, set `share=True` in `launch()`.\n"
     ]
    },
    {
     "data": {
      "text/html": [
       "<div><iframe src=\"http://127.0.0.1:7881/\" width=\"900\" height=\"500\" allow=\"autoplay; camera; microphone;\" frameborder=\"0\" allowfullscreen></iframe></div>"
      ],
      "text/plain": [
       "<IPython.core.display.HTML object>"
      ]
     },
     "metadata": {},
     "output_type": "display_data"
    },
    {
     "data": {
      "text/plain": [
       "(<gradio.routes.App at 0x2112c82e1a0>, 'http://127.0.0.1:7881/', None)"
      ]
     },
     "execution_count": 30,
     "metadata": {},
     "output_type": "execute_result"
    }
   ],
   "source": [
    "import gradio as gr\n",
    "\n",
    "def chg_file_type(choice):\n",
    "    if choice == \"Local File\":\n",
    "        return gr.Textbox(label=\"prompt 1234\")\n",
    "    elif choice == \"Remote File\":\n",
    "        return gr.Textbox(label=\"prompt 1234234\")\n",
    "\n",
    "    def txt_chg():\n",
    "        return gr.update()\n",
    "\n",
    "with gr.Blocks() as demo:\n",
    "    with gr.Row():\n",
    "        text11 = gr.Textbox(label=\"prompt 1\")\n",
    "        text12 = gr.Textbox(label=\"prompt 1\")\n",
    "        \n",
    "        file_type = gr.Radio(choices=[\"Local File\", \"Remote File\"], value=\"Local File\", interactive=True)\n",
    "        file_type.change(fn=chg_file_type, inputs=None, outputs=text11)\n",
    "        \n",
    "    text21 = gr.HTML(\"<p>this is some text</p>\")\n",
    "        \n",
    "    with gr.Row():\n",
    "        with gr.Column():\n",
    "            text1 = gr.Textbox(label=\"prompt 1\")\n",
    "            text2 = gr.Textbox(label=\"prompt 2\")\n",
    "        with gr.Column():\n",
    "            img1 = gr.Image(\"https://upload.wikimedia.org/wikipedia/commons/thumb/b/b6/Image_created_with_a_mobile_phone.png/800px-Image_created_with_a_mobile_phone.png\")\n",
    "            btn = gr.Button(\"Go\").style(full_width=True)\n",
    "demo.launch()"
   ]
  },
  {
   "cell_type": "code",
   "execution_count": 32,
   "id": "de0cdff1-f0b3-4fc1-8ccb-45501e5f5904",
   "metadata": {
    "pycharm": {
     "name": "#%%\n"
    }
   },
   "outputs": [
    {
     "name": "stdout",
     "output_type": "stream",
     "text": [
      "\n",
      "Thanks for being a Gradio user! If you have questions or feedback, please join our Discord server and chat with us: https://discord.gg/feTf9x3ZSB\n",
      "Running on local URL:  http://127.0.0.1:7884/\n",
      "\n",
      "To create a public link, set `share=True` in `launch()`.\n"
     ]
    },
    {
     "data": {
      "text/html": [
       "<div><iframe src=\"http://127.0.0.1:7884/\" width=\"900\" height=\"500\" allow=\"autoplay; camera; microphone;\" frameborder=\"0\" allowfullscreen></iframe></div>"
      ],
      "text/plain": [
       "<IPython.core.display.HTML object>"
      ]
     },
     "metadata": {},
     "output_type": "display_data"
    },
    {
     "data": {
      "text/plain": [
       "(<gradio.routes.App at 0x2112c9e2140>, 'http://127.0.0.1:7884/', None)"
      ]
     },
     "execution_count": 32,
     "metadata": {},
     "output_type": "execute_result"
    }
   ],
   "source": [
    "import gradio as gr\n",
    "\n",
    "def change_textbox(choice):\n",
    "    if choice == \"short\":\n",
    "        return gr.update(lines=2, visible=True, value=\"Short story: \")\n",
    "    elif choice == \"long\":\n",
    "        return gr.update(lines=8, visible=True, value=\"Long story...\")\n",
    "    else:\n",
    "        return gr.update(visible=False)\n",
    "\n",
    "with gr.Blocks() as demo:\n",
    "    gr.Markdown(\n",
    "    \"\"\"\n",
    "    # Hello World!\n",
    "    Start typing below to see the output.\n",
    "    \"\"\")\n",
    "    inp = gr.Textbox(placeholder=\"What is your name?\")\n",
    "    out = gr.Textbox()\n",
    "    inp.change(welcome, inp, out)\n",
    "\n",
    "demo.launch()"
   ]
  },
  {
   "cell_type": "code",
   "execution_count": 79,
   "id": "1bce756a-e896-4e27-ac44-a31d0b0ce89c",
   "metadata": {
    "pycharm": {
     "name": "#%%\n"
    }
   },
   "outputs": [
    {
     "name": "stdout",
     "output_type": "stream",
     "text": [
      "Running on local URL:  http://127.0.0.1:7921/\n",
      "\n",
      "To create a public link, set `share=True` in `launch()`.\n"
     ]
    },
    {
     "data": {
      "text/html": [
       "<div><iframe src=\"http://127.0.0.1:7921/\" width=\"900\" height=\"500\" allow=\"autoplay; camera; microphone;\" frameborder=\"0\" allowfullscreen></iframe></div>"
      ],
      "text/plain": [
       "<IPython.core.display.HTML object>"
      ]
     },
     "metadata": {},
     "output_type": "display_data"
    },
    {
     "data": {
      "text/plain": [
       "(<gradio.routes.App at 0x211304a6da0>, 'http://127.0.0.1:7921/', None)"
      ]
     },
     "execution_count": 79,
     "metadata": {},
     "output_type": "execute_result"
    }
   ],
   "source": [
    "# Blocks Example\n",
    "counter = 1\n",
    "\n",
    "class OtherTextbox(gr.Textbox):\n",
    "    \n",
    "    def __init__(self, *args, **kwargs):\n",
    "        super().__init__(*args, **kwargs)\n",
    "    \n",
    "\n",
    "def change_audio_source(val):\n",
    "    global counter\n",
    "    counter += 1\n",
    "    if counter % 2 == 0:\n",
    "        return [gr.Audio.update(visible=False), gr.Image.update(visible=True)]\n",
    "    else:\n",
    "        return [gr.Audio.update(visible=True), gr.Image.update(visible=False)]\n",
    "    \n",
    "def fn2(val):\n",
    "    return val\n",
    "    \n",
    "\n",
    "import gradio as gr\n",
    "with gr.Blocks() as demo:\n",
    "    radio = gr.Radio([1, 2, 4], label=\"Set the value of the number\")\n",
    "    with gr.Box():\n",
    "        audio_file = gr.Audio(interactive=True)\n",
    "        mic_recording = gr.Audio(source=\"microphone\", visible=False, interactive=True)\n",
    "        \n",
    "    number = gr.Textbox()\n",
    "    #audio_wave = gr.Plot()\n",
    "    \n",
    "    \n",
    "    radio.change(fn=change_audio_source, inputs=radio, outputs=[audio_file, mic_recording])\n",
    "    for component in [audio_file, mic_recording]:\n",
    "        getattr(component, 'change')(fn=fn2, inputs=component, outputs=number)\n",
    "    \n",
    "    \n",
    "demo.launch()"
   ]
  },
  {
   "cell_type": "code",
   "execution_count": null,
   "id": "738eb34f-a40b-4cd0-b88e-6325c3be3c54",
   "metadata": {
    "pycharm": {
     "name": "#%%\n"
    }
   },
   "outputs": [],
   "source": []
  }
 ],
 "metadata": {
  "kernelspec": {
   "display_name": "gradio-venv",
   "language": "python",
   "name": "gradio-venv"
  },
  "language_info": {
   "codemirror_mode": {
    "name": "ipython",
    "version": 3
   },
   "file_extension": ".py",
   "mimetype": "text/x-python",
   "name": "python",
   "nbconvert_exporter": "python",
   "pygments_lexer": "ipython3",
   "version": "3.10.5"
  }
 },
 "nbformat": 4,
 "nbformat_minor": 5
}